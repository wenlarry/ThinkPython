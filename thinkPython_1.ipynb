{
 "cells": [
  {
   "cell_type": "code",
   "execution_count": 1,
   "metadata": {},
   "outputs": [
    {
     "data": {
      "text/plain": [
       "str"
      ]
     },
     "execution_count": 1,
     "metadata": {},
     "output_type": "execute_result"
    }
   ],
   "source": [
    "type('Hi World')\n"
   ]
  },
  {
   "cell_type": "code",
   "execution_count": 2,
   "metadata": {},
   "outputs": [
    {
     "data": {
      "text/plain": [
       "int"
      ]
     },
     "execution_count": 2,
     "metadata": {},
     "output_type": "execute_result"
    }
   ],
   "source": [
    "type (17)\n",
    "\n"
   ]
  },
  {
   "cell_type": "code",
   "execution_count": 3,
   "metadata": {},
   "outputs": [
    {
     "data": {
      "text/plain": [
       "42.182"
      ]
     },
     "execution_count": 3,
     "metadata": {},
     "output_type": "execute_result"
    }
   ],
   "source": [
    "miles = 26.2\n",
    "miles * 1.61\n"
   ]
  },
  {
   "cell_type": "code",
   "execution_count": 4,
   "metadata": {},
   "outputs": [
    {
     "data": {
      "text/plain": [
       "32"
      ]
     },
     "execution_count": 4,
     "metadata": {},
     "output_type": "execute_result"
    }
   ],
   "source": [
    "int('32')\n"
   ]
  },
  {
   "cell_type": "code",
   "execution_count": 5,
   "metadata": {},
   "outputs": [
    {
     "data": {
      "text/plain": [
       "6"
      ]
     },
     "execution_count": 5,
     "metadata": {},
     "output_type": "execute_result"
    }
   ],
   "source": [
    "5\n",
    "x=5\n",
    "x+1"
   ]
  },
  {
   "cell_type": "code",
   "execution_count": 6,
   "metadata": {},
   "outputs": [
    {
     "data": {
      "text/plain": [
       "'77777'"
      ]
     },
     "execution_count": 6,
     "metadata": {},
     "output_type": "execute_result"
    }
   ],
   "source": [
    "width =17\n",
    "height = 12.0\n",
    "delimiter ='7'\n",
    "\n",
    "delimiter *5\n"
   ]
  },
  {
   "cell_type": "code",
   "execution_count": 7,
   "metadata": {
    "scrolled": true
   },
   "outputs": [
    {
     "name": "stdout",
     "output_type": "stream",
     "text": [
      "17.97\n",
      "927.4799999999999\n",
      "945.4499999999999\n"
     ]
    }
   ],
   "source": [
    "price1 = 24.95 * 0.60\n",
    "ship = 3.00\n",
    "print (price1 + ship)\n",
    "\n",
    "price2 = 59.00*price1\n",
    "ship2 = 59.00*0.75\n",
    "print(price2 + ship2)\n",
    "\n",
    "print(price1 + ship + price2 + ship2)\n"
   ]
  },
  {
   "cell_type": "code",
   "execution_count": 8,
   "metadata": {},
   "outputs": [
    {
     "name": "stdout",
     "output_type": "stream",
     "text": [
      "7.494333333333333\n"
     ]
    }
   ],
   "source": [
    "easy = 8.15\n",
    "tempo = 7.12\n",
    "\n",
    "total = (2*8.15)+ (3*7.12)\n",
    "total2 = total + (6*60) + 52.00\n",
    "ans = total2/60\n",
    "\n",
    "print(ans)"
   ]
  },
  {
   "cell_type": "code",
   "execution_count": 9,
   "metadata": {},
   "outputs": [],
   "source": [
    "#functions: int, float, str\n",
    "#int(3.999)\n",
    "#float(32)\n",
    "#str(32)"
   ]
  },
  {
   "cell_type": "code",
   "execution_count": 10,
   "metadata": {},
   "outputs": [
    {
     "name": "stdout",
     "output_type": "stream",
     "text": [
      "10.0\n"
     ]
    }
   ],
   "source": [
    "#math; dot notation i.e. specify name of module and name of function\n",
    "import math\n",
    "\n",
    "signal = 100\n",
    "noise = 10\n",
    "ratio = signal/noise\n",
    "decibels = 10*math.log10(ratio)\n",
    "\n",
    "print(decibels)"
   ]
  },
  {
   "cell_type": "code",
   "execution_count": 11,
   "metadata": {},
   "outputs": [
    {
     "data": {
      "text/plain": [
       "0.7071067811865475"
      ]
     },
     "execution_count": 11,
     "metadata": {},
     "output_type": "execute_result"
    }
   ],
   "source": [
    "#convert from degrees to radians\n",
    "\n",
    "degrees = 45\n",
    "radians = degrees/360.0*2*math.pi\n",
    "math.sin(radians)"
   ]
  },
  {
   "cell_type": "code",
   "execution_count": 12,
   "metadata": {},
   "outputs": [
    {
     "data": {
      "text/plain": [
       "0.7071067811865476"
      ]
     },
     "execution_count": 12,
     "metadata": {},
     "output_type": "execute_result"
    }
   ],
   "source": [
    "# trig check\n",
    "math.sqrt(2)/2.0"
   ]
  },
  {
   "cell_type": "code",
   "execution_count": 13,
   "metadata": {
    "scrolled": true
   },
   "outputs": [
    {
     "name": "stdout",
     "output_type": "stream",
     "text": [
      "0.8829475928589271\n"
     ]
    }
   ],
   "source": [
    "import math\n",
    "\n",
    "x = math.sin(118.0/360.0*2*math.pi)\n",
    "print(x)"
   ]
  },
  {
   "cell_type": "code",
   "execution_count": 14,
   "metadata": {},
   "outputs": [
    {
     "name": "stdout",
     "output_type": "stream",
     "text": [
      "1.882947592858927\n"
     ]
    }
   ],
   "source": [
    "x = math.exp(math.log(x+1))\n",
    "print(x)"
   ]
  },
  {
   "cell_type": "code",
   "execution_count": 15,
   "metadata": {},
   "outputs": [
    {
     "name": "stdout",
     "output_type": "stream",
     "text": [
      "I'm OK\n"
     ]
    }
   ],
   "source": [
    "# function definition; Create the function b4 execute\n",
    "def print_lyrics():\n",
    "    print (\"I'm OK\")\n",
    "\n",
    "print_lyrics()   "
   ]
  },
  {
   "cell_type": "code",
   "execution_count": 16,
   "metadata": {},
   "outputs": [
    {
     "name": "stdout",
     "output_type": "stream",
     "text": [
      "I'm OK\n"
     ]
    }
   ],
   "source": [
    "def repeat_lyrics():\n",
    "    print_lyrics()\n",
    "    \n",
    "repeat_lyrics()"
   ]
  },
  {
   "cell_type": "code",
   "execution_count": 17,
   "metadata": {
    "scrolled": true
   },
   "outputs": [
    {
     "data": {
      "text/plain": [
       "<function __main__.print_twice(Spam)>"
      ]
     },
     "execution_count": 17,
     "metadata": {},
     "output_type": "execute_result"
    }
   ],
   "source": [
    "# function takes an arg\n",
    "def print_twice(Spam):\n",
    "    print (Spam)\n",
    "    \n",
    "print_twice\n",
    "    "
   ]
  },
  {
   "cell_type": "code",
   "execution_count": 18,
   "metadata": {
    "scrolled": false
   },
   "outputs": [
    {
     "name": "stdout",
     "output_type": "stream",
     "text": [
      "Eric, the love child\n"
     ]
    }
   ],
   "source": [
    "# use variable as an arg\n",
    "mike = 'Eric, the love child'\n",
    "print_twice(mike)"
   ]
  },
  {
   "cell_type": "code",
   "execution_count": 19,
   "metadata": {},
   "outputs": [
    {
     "name": "stdout",
     "output_type": "stream",
     "text": [
      "paint m.up m\n"
     ]
    }
   ],
   "source": [
    "# a var inside a function is 'local'; it exists inside the function. This function takes 2 args, concatenates and \n",
    "# print\n",
    "\n",
    "line1 = 'paint m.'\n",
    "line2 = 'up m'\n",
    "mt = line1 + line2\n",
    "\n",
    "print_twice(mt)"
   ]
  },
  {
   "cell_type": "code",
   "execution_count": 20,
   "metadata": {},
   "outputs": [
    {
     "data": {
      "text/plain": [
       "2.23606797749979"
      ]
     },
     "execution_count": 20,
     "metadata": {},
     "output_type": "execute_result"
    }
   ],
   "source": [
    "# fruitful function; returns a value \n",
    "\n",
    "math.sqrt(5)  "
   ]
  },
  {
   "cell_type": "code",
   "execution_count": 21,
   "metadata": {},
   "outputs": [
    {
     "data": {
      "text/plain": [
       "-0.9899924966004454"
      ]
     },
     "execution_count": 21,
     "metadata": {},
     "output_type": "execute_result"
    }
   ],
   "source": [
    " math.cos(3)"
   ]
  },
  {
   "cell_type": "code",
   "execution_count": 22,
   "metadata": {},
   "outputs": [
    {
     "name": "stdout",
     "output_type": "stream",
     "text": [
      "1.618033988749895\n"
     ]
    }
   ],
   "source": [
    "p = (math.sqrt(5)+1)/2\n",
    "\n",
    "print(p)"
   ]
  },
  {
   "cell_type": "code",
   "execution_count": 23,
   "metadata": {},
   "outputs": [
    {
     "name": "stdout",
     "output_type": "stream",
     "text": [
      "m\n",
      "None\n"
     ]
    }
   ],
   "source": [
    "# void function; no return value; return 'None'\n",
    "result = print_twice('m')\n",
    "\n",
    "print (result)"
   ]
  },
  {
   "cell_type": "code",
   "execution_count": 24,
   "metadata": {},
   "outputs": [
    {
     "name": "stdout",
     "output_type": "stream",
     "text": [
      "3.141592653589793\n"
     ]
    }
   ],
   "source": [
    "# import an object from a module; \n",
    "from math import pi\n",
    "\n",
    "print (pi)"
   ]
  },
  {
   "cell_type": "code",
   "execution_count": 25,
   "metadata": {
    "scrolled": true
   },
   "outputs": [
    {
     "data": {
      "text/plain": [
       "<function __main__.do_twice(f, spam)>"
      ]
     },
     "execution_count": 25,
     "metadata": {},
     "output_type": "execute_result"
    }
   ],
   "source": [
    "def do_twice(f, spam):\n",
    "    f,spam()\n",
    "    f,spam()  \n",
    "\n",
    "do_twice\n",
    "    "
   ]
  },
  {
   "cell_type": "code",
   "execution_count": 26,
   "metadata": {},
   "outputs": [
    {
     "name": "stdout",
     "output_type": "stream",
     "text": [
      "spam\n",
      "spam\n",
      "spam\n",
      "spam\n",
      "\n",
      "spam\n",
      "spam\n",
      "spam\n",
      "spam\n",
      "spam\n",
      "spam\n",
      "spam\n",
      "spam\n",
      "\n"
     ]
    }
   ],
   "source": [
    "# Functions. Ex 3-4. Define a new function 'do_four' that takes a function object and a value and calls the function\n",
    "# 4X, passing the value as a parameter.\n",
    "def do_twice(f, arg):\n",
    "    f(arg)\n",
    "    f(arg)\n",
    "\n",
    "def print_twice(arg):\n",
    "    print (arg)\n",
    "    print (arg)\n",
    "\n",
    "do_twice(print_twice, 'spam')\n",
    "print ('')\n",
    "\n",
    "def do_four(f, arg):\n",
    "    do_twice(f, arg)\n",
    "    do_twice(f, arg)\n",
    "\n",
    "do_four(print_twice, 'spam')\n",
    "print ('')"
   ]
  },
  {
   "cell_type": "code",
   "execution_count": 27,
   "metadata": {},
   "outputs": [
    {
     "name": "stdout",
     "output_type": "stream",
     "text": [
      "m\n",
      "m\n",
      "m\n",
      "m\n",
      "\n"
     ]
    }
   ],
   "source": [
    "def paint (f, arg):\n",
    "    f(arg)\n",
    "    f(arg)\n",
    "    \n",
    "def print_twice(arg):\n",
    "    print (arg)\n",
    "    print (arg)\n",
    "    \n",
    "paint(print_twice, 'm')\n",
    "print('')"
   ]
  },
  {
   "cell_type": "code",
   "execution_count": 28,
   "metadata": {
    "scrolled": true
   },
   "outputs": [
    {
     "name": "stdout",
     "output_type": "stream",
     "text": [
      "1\n"
     ]
    }
   ],
   "source": [
    "# modus operator\n",
    "remainder = 7 % 3\n",
    "print (remainder)"
   ]
  },
  {
   "cell_type": "code",
   "execution_count": 29,
   "metadata": {},
   "outputs": [
    {
     "name": "stdout",
     "output_type": "stream",
     "text": [
      "x is positive\n"
     ]
    }
   ],
   "source": [
    "# conditional execution\n",
    "x = 3\n",
    "if x>0:\n",
    "    print ('x is positive')\n",
    "    "
   ]
  },
  {
   "cell_type": "code",
   "execution_count": 30,
   "metadata": {},
   "outputs": [
    {
     "name": "stdout",
     "output_type": "stream",
     "text": [
      "x is odd\n"
     ]
    }
   ],
   "source": [
    "# alternative execution\n",
    "x = 5\n",
    "if x%2 == 0:\n",
    "    print ('x is even')\n",
    "else:\n",
    "    print ('x is odd')\n"
   ]
  },
  {
   "cell_type": "code",
   "execution_count": 31,
   "metadata": {},
   "outputs": [
    {
     "name": "stdout",
     "output_type": "stream",
     "text": [
      "x is less than y\n"
     ]
    }
   ],
   "source": [
    "# chained conditional\n",
    "x=2; y =3\n",
    "if x<y:\n",
    "    print('x is less than y')\n",
    "elif x>y:\n",
    "    print ('x is greater than y')\n",
    "else:\n",
    "    print ('x and y are equal')"
   ]
  },
  {
   "cell_type": "code",
   "execution_count": 32,
   "metadata": {},
   "outputs": [
    {
     "name": "stdout",
     "output_type": "stream",
     "text": [
      "x is a positive single digit\n"
     ]
    }
   ],
   "source": [
    "# logical operators using 'and'\n",
    "x = 7\n",
    "if 0< x and x<10:\n",
    "    print('x is a positive single digit')"
   ]
  },
  {
   "cell_type": "code",
   "execution_count": 33,
   "metadata": {},
   "outputs": [
    {
     "name": "stdout",
     "output_type": "stream",
     "text": [
      "3\n",
      "2\n",
      "1\n",
      "blast\n"
     ]
    }
   ],
   "source": [
    "# recursion; exection of countdown begins with n=3; n is greater than 0, outputs value 3, and call itself. So on ...\n",
    "def countdown (n):\n",
    "    if n <= 0:\n",
    "        print ('blast')\n",
    "    else: \n",
    "        \n",
    "        print (n)\n",
    "        countdown (n-1)\n",
    "\n",
    "countdown(3)\n"
   ]
  },
  {
   "cell_type": "code",
   "execution_count": 34,
   "metadata": {
    "scrolled": false
   },
   "outputs": [],
   "source": [
    "#keyboard input; input 17 and enter;\n",
    "#prompt = 'What is the airspeed velocity of swallow?\\n'\n",
    "#speed = input(prompt)\n",
    "\n",
    "#int (speed)\n"
   ]
  },
  {
   "cell_type": "code",
   "execution_count": 35,
   "metadata": {
    "scrolled": true
   },
   "outputs": [
    {
     "data": {
      "text/plain": [
       "2.718281828459045"
      ]
     },
     "execution_count": 35,
     "metadata": {},
     "output_type": "execute_result"
    }
   ],
   "source": [
    "# return values; call a function in an interactive mode, there's an output. In a SCRIPT call a fruitful function,\n",
    "# return value is lost\n",
    "import math\n",
    "e = math.exp(1.0)\n",
    "math.exp(1.0)"
   ]
  },
  {
   "cell_type": "code",
   "execution_count": 36,
   "metadata": {
    "scrolled": true
   },
   "outputs": [
    {
     "data": {
      "text/plain": [
       "1017.8760197630929"
      ]
     },
     "execution_count": 36,
     "metadata": {},
     "output_type": "execute_result"
    }
   ],
   "source": [
    "# Fruitful functions where return statement includes an expression. Retuns from this function and use the expression as\n",
    "# a return value\n",
    "import math\n",
    "def area (radius):\n",
    "    return math.pi * radius**2\n",
    "area(18)   "
   ]
  },
  {
   "cell_type": "code",
   "execution_count": 37,
   "metadata": {},
   "outputs": [
    {
     "data": {
      "text/plain": [
       "0.0"
      ]
     },
     "execution_count": 37,
     "metadata": {},
     "output_type": "execute_result"
    }
   ],
   "source": [
    "# Incremental Development.Distance not computed, always return zero BUT syntatically correct, which means that you\n",
    "# can test it.\n",
    "def distance (x1,y1,x2,y2):\n",
    "    return 0.0\n",
    "# test the function. Add code to the body.\n",
    "distance(1,2,4,6)    "
   ]
  },
  {
   "cell_type": "code",
   "execution_count": 38,
   "metadata": {},
   "outputs": [
    {
     "name": "stdout",
     "output_type": "stream",
     "text": [
      "dx is 3\n",
      "dy is 4\n"
     ]
    },
    {
     "data": {
      "text/plain": [
       "0.0"
      ]
     },
     "execution_count": 38,
     "metadata": {},
     "output_type": "execute_result"
    }
   ],
   "source": [
    "# Incremental Development. Stores values in temp variables and print them\n",
    "def distance (x1,y1,x2,y2):\n",
    "    dx = x2 -x1\n",
    "    dy = y2 - y1\n",
    "    print('dx is',dx)\n",
    "    print('dy is', dy)\n",
    "    return 0.0\n",
    "distance(1,2,4,6)"
   ]
  },
  {
   "cell_type": "code",
   "execution_count": 39,
   "metadata": {},
   "outputs": [
    {
     "data": {
      "text/plain": [
       "5.0"
      ]
     },
     "execution_count": 39,
     "metadata": {},
     "output_type": "execute_result"
    }
   ],
   "source": [
    "# Increment Development. use math.sqrt to compute and return the result. This only returns a value. the previous print\n",
    "# statements are useful for debugging. Once the function is working remove them..they are scaffolding.\n",
    "import math\n",
    "def distance(x1,y1,x2,y2):\n",
    "    dx = x2-x1\n",
    "    dy = y2-y1\n",
    "    dsquared = dx**2 + dy**2\n",
    "    result = math.sqrt(dsquared)\n",
    "    return result\n",
    "distance(1,2,4,6)"
   ]
  },
  {
   "cell_type": "code",
   "execution_count": 40,
   "metadata": {},
   "outputs": [
    {
     "data": {
      "text/plain": [
       "100.53096491487341"
      ]
     },
     "execution_count": 40,
     "metadata": {},
     "output_type": "execute_result"
    }
   ],
   "source": [
    "\n",
    "\n",
    "# Composition is call one function from another\n",
    "def circle_area(xc,yc,xp,yp):\n",
    "    return area(distance(xc,yc,xp,yp))\n",
    "circle_area(2,4,6,8)"
   ]
  },
  {
   "cell_type": "code",
   "execution_count": 41,
   "metadata": {},
   "outputs": [
    {
     "data": {
      "text/plain": [
       "False"
      ]
     },
     "execution_count": 41,
     "metadata": {},
     "output_type": "execute_result"
    }
   ],
   "source": [
    "# Boolean functions.Convenient for complicated tests inside functions. Result of '==' is a boolean\n",
    "def is_divisible(x,y):\n",
    "    return x % y == 0\n",
    "is_divisible (3,6)"
   ]
  },
  {
   "cell_type": "code",
   "execution_count": 42,
   "metadata": {},
   "outputs": [
    {
     "data": {
      "text/plain": [
       "False"
      ]
     },
     "execution_count": 42,
     "metadata": {},
     "output_type": "execute_result"
    }
   ],
   "source": [
    "# Boolean functions often used in conditional statements.\n",
    "def is_divisibe(x,y):\n",
    "    if is_divisible(x,y):\n",
    "        print ('x is divisible by y')\n",
    "\n",
    "is_divisible(2,8)"
   ]
  },
  {
   "cell_type": "code",
   "execution_count": 43,
   "metadata": {},
   "outputs": [
    {
     "data": {
      "text/plain": [
       "6"
      ]
     },
     "execution_count": 43,
     "metadata": {},
     "output_type": "execute_result"
    }
   ],
   "source": [
    "# More Recursions. \n",
    "def factorial(n):\n",
    "    if n == 0:\n",
    "        return 1\n",
    "    else:\n",
    "        recurse = factorial(n-1)\n",
    "        result = n*recurse\n",
    "        return result\n",
    "\n",
    "factorial(3)"
   ]
  },
  {
   "cell_type": "code",
   "execution_count": 44,
   "metadata": {},
   "outputs": [
    {
     "data": {
      "text/plain": [
       "21"
      ]
     },
     "execution_count": 44,
     "metadata": {},
     "output_type": "execute_result"
    }
   ],
   "source": [
    "# More recursions. Fibonacci is a common recursively defined math function. \n",
    "\n",
    "def fibonacci (n):\n",
    "    if n == 0:\n",
    "        return 0\n",
    "    elif n ==1:\n",
    "        return 1\n",
    "    else:\n",
    "        return fibonacci(n-1) + fibonacci(n-2)\n",
    "    \n",
    "fibonacci (8) "
   ]
  },
  {
   "cell_type": "code",
   "execution_count": 45,
   "metadata": {},
   "outputs": [
    {
     "data": {
      "text/plain": [
       "5040"
      ]
     },
     "execution_count": 45,
     "metadata": {},
     "output_type": "execute_result"
    }
   ],
   "source": [
    "# Using 'isinstance' to verify types of arg. Handles non-integers and negative integers. Both cases, program prints\n",
    "# error msg and returns None.Pass both tests, than n is positive or zero, and proves that the recursion terminates. the\n",
    "# first 2 conditionals are 'guardians'.\n",
    "\n",
    "def factorial (n):\n",
    "    if not isinstance(n, int):\n",
    "        print ('factorial is only defined for integers')\n",
    "        return None\n",
    "    elif n < 0:\n",
    "        print('factorial is not defined for negative integers')\n",
    "        return None\n",
    "    elif n == 0:\n",
    "        return 1\n",
    "    else:\n",
    "        return n* factorial(n-1)\n",
    "\n",
    "factorial (7)\n",
    "        "
   ]
  },
  {
   "cell_type": "code",
   "execution_count": 46,
   "metadata": {},
   "outputs": [
    {
     "name": "stdout",
     "output_type": "stream",
     "text": [
      "             factorial 3\n",
      "         factorial 2\n",
      "     factorial 1\n",
      " factorial 0\n",
      " returning 1\n",
      "     returning 1\n",
      "         returning 2\n",
      "             returning 6\n"
     ]
    },
    {
     "data": {
      "text/plain": [
       "6"
      ]
     },
     "execution_count": 46,
     "metadata": {},
     "output_type": "execute_result"
    }
   ],
   "source": [
    "# space is a string of characters that controls the indentation of the output\n",
    "def factorial(n):\n",
    "    space = ' '*(4*n)\n",
    "    print (space, 'factorial',n)\n",
    "    if n == 0:\n",
    "        print (space, 'returning 1')\n",
    "        return 1\n",
    "    else:\n",
    "        recurse = factorial(n-1)\n",
    "        result = n*recurse\n",
    "        print(space,'returning',result)\n",
    "        return result\n",
    "    \n",
    "factorial(3)"
   ]
  },
  {
   "cell_type": "code",
   "execution_count": 47,
   "metadata": {},
   "outputs": [
    {
     "name": "stdout",
     "output_type": "stream",
     "text": [
      "False\n",
      "True\n",
      "True\n"
     ]
    }
   ],
   "source": [
    "# Fruitful functions. Ex 6.6. A palindrome is a word that is spelled that same backward/forward, like 'noon'.\n",
    "# Recursively, a word is a palindrome if the first and last letters are the same and the middle is a palindrome.\n",
    "# Functions that take a string arg and return the first,last and middle letters.\n",
    "\n",
    "def first(word):\n",
    "    \"\"\"Returns the first character of a string.\"\"\"\n",
    "    return word[0]\n",
    "\n",
    "\n",
    "def last(word):\n",
    "    \"\"\"Returns the last character of a string.\"\"\"\n",
    "    return word[-1]\n",
    "\n",
    "\n",
    "def middle(word):\n",
    "    \"\"\"Returns all but the first and last characters of a string.\"\"\"\n",
    "    return word[1:-1]\n",
    "\n",
    "\n",
    "def is_palindrome(word):\n",
    "    \"\"\"Returns True if word is a palindrome.\"\"\"\n",
    "    if len(word) <= 1:\n",
    "        return True\n",
    "    if first(word) != last(word):\n",
    "        return False\n",
    "    return is_palindrome(middle(word))\n",
    "\n",
    "\n",
    "print (is_palindrome('ming'))\n",
    "print (is_palindrome('otto'))\n",
    "print (is_palindrome('redivider'))\n"
   ]
  },
  {
   "cell_type": "code",
   "execution_count": 48,
   "metadata": {},
   "outputs": [
    {
     "name": "stdout",
     "output_type": "stream",
     "text": [
      "7\n",
      "8\n"
     ]
    }
   ],
   "source": [
    "# multiple assignment.comma is important\n",
    "m = 7\n",
    "print (m,)\n",
    "m = 8\n",
    "print (m)"
   ]
  },
  {
   "cell_type": "code",
   "execution_count": 49,
   "metadata": {},
   "outputs": [
    {
     "name": "stdout",
     "output_type": "stream",
     "text": [
      "1\n"
     ]
    }
   ],
   "source": [
    "# Updating Variables. Updating a variable by adding 1 is increment\n",
    "m = 0\n",
    "m = m + 1\n",
    "print (m)"
   ]
  },
  {
   "cell_type": "code",
   "execution_count": 50,
   "metadata": {},
   "outputs": [
    {
     "name": "stdout",
     "output_type": "stream",
     "text": [
      "3\n",
      "blast\n",
      "2\n",
      "blast\n",
      "1\n",
      "blast\n"
     ]
    }
   ],
   "source": [
    "# while statement \n",
    "def countdown(n):\n",
    "    while n > 0:\n",
    "        print (n)\n",
    "        n = n-1\n",
    "        print ('blast')\n",
    "\n",
    "countdown(3)     "
   ]
  },
  {
   "cell_type": "code",
   "execution_count": 51,
   "metadata": {},
   "outputs": [
    {
     "name": "stdout",
     "output_type": "stream",
     "text": [
      "3\n",
      "10\n",
      "5.0\n",
      "16.0\n",
      "8.0\n",
      "4.0\n",
      "2.0\n"
     ]
    }
   ],
   "source": [
    "# while statement. loop continues until n is 1, which makes the condition false.If even, n is divided by 2. If odd, n\n",
    "# is replaced with n*3+1. If starting value is 2, value of n will be even each time it passes thru the loop until it\n",
    "# reaches 1.See output of 16...\n",
    "def sequence (n):\n",
    "    while n!= 1:\n",
    "        print (n),\n",
    "        if n%2 == 0: # n is even\n",
    "            n = n/2\n",
    "        else:\n",
    "            n = n*3+1 # n is odd \n",
    "sequence(3)"
   ]
  },
  {
   "cell_type": "code",
   "execution_count": 52,
   "metadata": {},
   "outputs": [],
   "source": [
    "# break. take input until user type 'done'. Otherwise, the program echoes what the user type and goes back to the top\n",
    "# of the loop.\n",
    "\n",
    "#while True:\n",
    "    #line = input('> ')\n",
    "    #if line == 'done':\n",
    "       # break\n",
    "    #print (line)\n",
    "    \n",
    "#print('Done')\n"
   ]
  },
  {
   "cell_type": "code",
   "execution_count": 53,
   "metadata": {},
   "outputs": [
    {
     "name": "stdout",
     "output_type": "stream",
     "text": [
      "3.141592653589793\n"
     ]
    }
   ],
   "source": [
    "# Iteration. Ex 7.5. Mathematician (SR) found an infinite series that can generate a numerical approximation of pi.\n",
    "# Function 'estimate_pi' uses this formula to compute and return an estimate of pi. A while loop to compute terms\n",
    "#  of the summation until last term is smaller than 1e-15 (pythong notation for 10 power -15)\n",
    "\n",
    "import math\n",
    "\n",
    "def factorial(n):\n",
    "    \"\"\"Computes factorial of n.\"\"\"\n",
    "    if n == 0:\n",
    "        return 1\n",
    "    else:\n",
    "        recurse = factorial(n-1)\n",
    "        result = n * recurse\n",
    "        return result\n",
    "\n",
    "def estimate_pi():\n",
    "    \"\"\"Computes an estimate of pi.\n",
    "    Algorithm due to Srinivasa Ramanujan, from \n",
    "    http://en.wikipedia.org/wiki/Pi\n",
    "    \"\"\"\n",
    "    total = 0\n",
    "    k = 0\n",
    "    factor = 2 * math.sqrt(2) / 9801\n",
    "    while True:\n",
    "        num = factorial(4*k) * (1103 + 26390*k)\n",
    "        den = factorial(k)**4 * 396**(4*k)\n",
    "        term = factor * num / den\n",
    "        total += term\n",
    "        \n",
    "        if abs(term) < 1e-15: break\n",
    "        k += 1\n",
    "\n",
    "    return 1 / total\n",
    "\n",
    "print (estimate_pi())"
   ]
  },
  {
   "cell_type": "code",
   "execution_count": 54,
   "metadata": {},
   "outputs": [
    {
     "name": "stdout",
     "output_type": "stream",
     "text": [
      "b\n"
     ]
    }
   ],
   "source": [
    "# Strings. Can access the character with[]. Expression in bracket is the index. first letter is 0 not 1.Value of\n",
    "# index has to be an integer.\n",
    "fruit = 'banana'\n",
    "letter = fruit[0]\n",
    "\n",
    "print(letter)"
   ]
  },
  {
   "cell_type": "code",
   "execution_count": 103,
   "metadata": {},
   "outputs": [
    {
     "data": {
      "text/plain": [
       "4"
      ]
     },
     "execution_count": 103,
     "metadata": {},
     "output_type": "execute_result"
    }
   ],
   "source": [
    "# len\n",
    "sweet = 'ming'\n",
    "len (sweet)\n"
   ]
  },
  {
   "cell_type": "code",
   "execution_count": 56,
   "metadata": {},
   "outputs": [
    {
     "name": "stdout",
     "output_type": "stream",
     "text": [
      "b\n",
      "a\n",
      "n\n",
      "a\n",
      "n\n",
      "a\n"
     ]
    }
   ],
   "source": [
    "# traversal with a for loop. when index is equal to len (string), the condition is false.Last character is the one\n",
    "# with index len(fruit)-1\n",
    "index = 0\n",
    "while index < len(fruit):\n",
    "    letter = fruit[index]\n",
    "    print (letter)\n",
    "    index = index + 1\n",
    "    \n",
    "\n"
   ]
  },
  {
   "cell_type": "code",
   "execution_count": 57,
   "metadata": {
    "scrolled": true
   },
   "outputs": [
    {
     "name": "stdout",
     "output_type": "stream",
     "text": [
      "b\n",
      "a\n",
      "n\n",
      "a\n",
      "n\n",
      "a\n"
     ]
    }
   ],
   "source": [
    "# traversal with a for loop. Each time thru the loop, the next character in the string is assigned to the var 'char'\n",
    "# loop continues until no characters are left.\n",
    "for char in fruit:\n",
    "    print (char)"
   ]
  },
  {
   "cell_type": "code",
   "execution_count": 58,
   "metadata": {},
   "outputs": [
    {
     "name": "stdout",
     "output_type": "stream",
     "text": [
      "Jack\n",
      "Kack\n",
      "Lack\n",
      "Mack\n",
      "Nack\n",
      "Oack\n",
      "Pack\n"
     ]
    }
   ],
   "source": [
    "# concatenation and a for loop. \n",
    "prefixes = 'JKLMNOP'\n",
    "suffix = 'ack'\n",
    "\n",
    "for letter in prefixes:\n",
    "    print (letter + suffix)\n"
   ]
  },
  {
   "cell_type": "code",
   "execution_count": 59,
   "metadata": {},
   "outputs": [
    {
     "name": "stdout",
     "output_type": "stream",
     "text": [
      "Monty\n",
      "Python\n"
     ]
    }
   ],
   "source": [
    "# String Slice\n",
    "s = 'Monty Python'\n",
    "print (s[0:5])\n",
    "print(s[6:12])"
   ]
  },
  {
   "cell_type": "code",
   "execution_count": 60,
   "metadata": {},
   "outputs": [
    {
     "data": {
      "text/plain": [
       "'ban'"
      ]
     },
     "execution_count": 60,
     "metadata": {},
     "output_type": "execute_result"
    }
   ],
   "source": [
    "# slice indices; slice starts at beginning of string\n",
    "fruit = 'banana'\n",
    "fruit[:3]\n"
   ]
  },
  {
   "cell_type": "code",
   "execution_count": 61,
   "metadata": {},
   "outputs": [
    {
     "data": {
      "text/plain": [
       "'ana'"
      ]
     },
     "execution_count": 61,
     "metadata": {},
     "output_type": "execute_result"
    }
   ],
   "source": [
    "# slice indices; slice goes to end of string\n",
    "fruit[3:]"
   ]
  },
  {
   "cell_type": "code",
   "execution_count": 105,
   "metadata": {},
   "outputs": [
    {
     "name": "stdout",
     "output_type": "stream",
     "text": [
      "UP Ming\n"
     ]
    }
   ],
   "source": [
    "# Strings are immutable. create a new string that is a variation of the original\n",
    "greeting = 'AP Ming'\n",
    "new_greeting = 'U' + greeting[1:]\n",
    "print (new_greeting)\n"
   ]
  },
  {
   "cell_type": "code",
   "execution_count": 63,
   "metadata": {},
   "outputs": [
    {
     "name": "stdout",
     "output_type": "stream",
     "text": [
      "6\n"
     ]
    }
   ],
   "source": [
    "# Searching. find is the opposite of [] operator. It takes a character and finds the index, where that character\n",
    "# appears. If character is not found, the function returns -1.If word[index]==letter, the function breaks out of the\n",
    "# loop and return immediately.\n",
    "def find(word, letter):\n",
    "    index = 0\n",
    "    while index < len(word):\n",
    "        if word[index] == letter:\n",
    "            return index\n",
    "        index = index + 1\n",
    "    return -1\n",
    "print (index)"
   ]
  },
  {
   "cell_type": "code",
   "execution_count": 64,
   "metadata": {},
   "outputs": [
    {
     "name": "stdout",
     "output_type": "stream",
     "text": [
      "3\n"
     ]
    }
   ],
   "source": [
    "# Looping n Counting. Number of times 'a' appears in the string\n",
    "word = 'banana'\n",
    "count = 0\n",
    "for letter in word:\n",
    "    if letter =='a':\n",
    "        count = count + 1\n",
    "\n",
    "print (count)"
   ]
  },
  {
   "cell_type": "code",
   "execution_count": 65,
   "metadata": {},
   "outputs": [
    {
     "name": "stdout",
     "output_type": "stream",
     "text": [
      "BANANA\n"
     ]
    }
   ],
   "source": [
    "# String Method. dot notation specifies the method and name of the string to apply (word).empty paranthesis means\n",
    "# that this method takes on arg.\n",
    "word = 'banana'\n",
    "new_word = word.upper()\n",
    "print(new_word)"
   ]
  },
  {
   "cell_type": "code",
   "execution_count": 66,
   "metadata": {},
   "outputs": [
    {
     "name": "stdout",
     "output_type": "stream",
     "text": [
      "1\n"
     ]
    }
   ],
   "source": [
    "# String Method. 'find' another string method name.\n",
    "word = 'banana'\n",
    "index = word.find('a')\n",
    "print(index)"
   ]
  },
  {
   "cell_type": "code",
   "execution_count": 67,
   "metadata": {},
   "outputs": [
    {
     "data": {
      "text/plain": [
       "2"
      ]
     },
     "execution_count": 67,
     "metadata": {},
     "output_type": "execute_result"
    }
   ],
   "source": [
    "# String Method. find substrings\n",
    "word = 'banana'\n",
    "word.find('na')"
   ]
  },
  {
   "cell_type": "code",
   "execution_count": 68,
   "metadata": {},
   "outputs": [
    {
     "data": {
      "text/plain": [
       "4"
      ]
     },
     "execution_count": 68,
     "metadata": {},
     "output_type": "execute_result"
    }
   ],
   "source": [
    "# String Method. takes a second arg for where the index starts.\n",
    "word.find('na', 3)"
   ]
  },
  {
   "cell_type": "code",
   "execution_count": 69,
   "metadata": {},
   "outputs": [
    {
     "data": {
      "text/plain": [
       "0"
      ]
     },
     "execution_count": 69,
     "metadata": {},
     "output_type": "execute_result"
    }
   ],
   "source": [
    "# String Method. takes a third arg for where the index stop\n",
    "name = 'ming'\n",
    "name.find('m',0,2)"
   ]
  },
  {
   "cell_type": "code",
   "execution_count": 70,
   "metadata": {},
   "outputs": [
    {
     "data": {
      "text/plain": [
       "True"
      ]
     },
     "execution_count": 70,
     "metadata": {},
     "output_type": "execute_result"
    }
   ],
   "source": [
    "# 'in' operator is a boolean. Takes 2 strings and returns True if the first appears as a substring in the second.\n",
    "'m' in 'ming'"
   ]
  },
  {
   "cell_type": "code",
   "execution_count": 71,
   "metadata": {},
   "outputs": [
    {
     "name": "stdout",
     "output_type": "stream",
     "text": [
      "i\n",
      "n\n"
     ]
    }
   ],
   "source": [
    "# in operator. prints all letters from word 1 that are in word2.\n",
    "def in_both (word1, word2):\n",
    "    for letter in word1:\n",
    "        if letter in word2:\n",
    "            print (letter)\n",
    "\n",
    "in_both('ming','paint')"
   ]
  },
  {
   "cell_type": "code",
   "execution_count": 72,
   "metadata": {
    "scrolled": true
   },
   "outputs": [
    {
     "name": "stdout",
     "output_type": "stream",
     "text": [
      "a\n",
      "e\n",
      "s\n"
     ]
    }
   ],
   "source": [
    "# 'in' operator. for each letter in the first, if the letter is in the second, print the letter\n",
    "in_both('apples', 'oranges')"
   ]
  },
  {
   "cell_type": "code",
   "execution_count": 73,
   "metadata": {},
   "outputs": [
    {
     "name": "stdout",
     "output_type": "stream",
     "text": [
      "Alright! bananas\n"
     ]
    }
   ],
   "source": [
    "# String Comparison. See if 2 strings are equal\n",
    "if word == 'banana':\n",
    "    print('Alright! bananas')"
   ]
  },
  {
   "cell_type": "code",
   "execution_count": 107,
   "metadata": {},
   "outputs": [
    {
     "name": "stdout",
     "output_type": "stream",
     "text": [
      "ming,loves, comes before bananas\n"
     ]
    }
   ],
   "source": [
    "# String Comparison. Useful for putting words in order. Does not handle upper/lower cases. \n",
    "\n",
    "if word < 'bananas':\n",
    "    print ('ming,' + 'loves' + ', comes before bananas')\n",
    "elif word > 'bananas':\n",
    "    print ('ming' + ' loves' + ', comes after bananas')\n",
    "else:\n",
    "    print ('Alright! bananas')\n"
   ]
  },
  {
   "cell_type": "code",
   "execution_count": 75,
   "metadata": {},
   "outputs": [
    {
     "data": {
      "text/plain": [
       "False"
      ]
     },
     "execution_count": 75,
     "metadata": {},
     "output_type": "execute_result"
    }
   ],
   "source": [
    "# Debuggig: Using indices to traverse values in a sequence is tricky to get the beg and end right\n",
    "def is_reverse(word1, word2):\n",
    "    if len(word1) != len(word2)-1:\n",
    "        return False\n",
    "    \n",
    "    i = 0\n",
    "    j = len(word2)\n",
    "    \n",
    "    while j > 0:\n",
    "        print (i, j )\n",
    "        \n",
    "        if word1[i] != word2[j]:\n",
    "            return False\n",
    "        i = i+1\n",
    "        j = j+1\n",
    "        \n",
    "    return True\n",
    "        \n",
    "is_reverse('pots','stop')"
   ]
  },
  {
   "cell_type": "code",
   "execution_count": 76,
   "metadata": {},
   "outputs": [
    {
     "name": "stdout",
     "output_type": "stream",
     "text": [
      "jolly\n",
      "cubed\n",
      "eafy\n"
     ]
    }
   ],
   "source": [
    "#Strings.Ex 8.12. Function 'rotate_word' that takes a string and an integer as parameters, and returns a new string \n",
    "#  that contains the letters from the original string 'rotated' by the given amount. eg. 'cheer' rotated by 7 is \n",
    "#' jolly'. Built in functions 'ord' converts a character to a numeric code; 'chr' converts numeric code to characters.\n",
    "\n",
    "import string\n",
    "\n",
    "def rotate_letter(letter, n):\n",
    "    \"\"\"Rotates a letter by n places.  Does not change other chars.\n",
    "    letter: single-letter string\n",
    "    n: int\n",
    "    Returns: single-letter string\n",
    "    \"\"\"\n",
    "    if letter.isupper():\n",
    "        start = ord('A')\n",
    "    elif letter.islower():\n",
    "        start = ord('a')\n",
    "    else:\n",
    "        return letter\n",
    "\n",
    "    c = ord(letter) - start\n",
    "    i = (c + n) % 26 + start\n",
    "    return chr(i)\n",
    "\n",
    "\n",
    "def rotate_word(word, n):\n",
    "    \"\"\"Rotates a word by n places.\n",
    "    word: string\n",
    "    n: integer\n",
    "    Returns: string\n",
    "    \"\"\"\n",
    "    res = ''\n",
    "    for letter in word:\n",
    "        res += rotate_letter(letter, n)\n",
    "    return res\n",
    "\n",
    "\n",
    "if __name__ == '__main__':\n",
    "    print (rotate_word ('cheer', 7))\n",
    "    print (rotate_word('melon', -10))\n",
    "    print (rotate_word('ming', -8))"
   ]
  },
  {
   "cell_type": "code",
   "execution_count": 77,
   "metadata": {},
   "outputs": [
    {
     "name": "stdout",
     "output_type": "stream",
     "text": [
      "Cheddar\n",
      "Edam\n",
      "Gouda\n"
     ]
    }
   ],
   "source": [
    "# List. Traversing a list. Works if you need to travese the elements of a list only.\n",
    "cheeses = ['Cheddar', 'Edam','Gouda']\n",
    "\n",
    "for cheese in cheeses:\n",
    "    print (cheese)\n",
    "           "
   ]
  },
  {
   "cell_type": "code",
   "execution_count": 78,
   "metadata": {},
   "outputs": [
    {
     "name": "stdout",
     "output_type": "stream",
     "text": [
      "[246, 246]\n"
     ]
    }
   ],
   "source": [
    "# Traversing a list. if you want to write/update elements, you need indices.Combine functions range and len.\n",
    "\n",
    "numbers = [17,123]\n",
    "\n",
    "for i in range(len(numbers)):\n",
    "    numbers[i] = numbers[1] * 2\n",
    "    \n",
    "print (numbers)\n",
    "    "
   ]
  },
  {
   "cell_type": "code",
   "execution_count": 1,
   "metadata": {},
   "outputs": [],
   "source": [
    "# a for loop over an empty list never executes the body.\n",
    "# a nested list counts as a single element.\n",
    "\n",
    "for x in []:\n",
    "    print ('ming')"
   ]
  },
  {
   "cell_type": "code",
   "execution_count": 80,
   "metadata": {},
   "outputs": [
    {
     "name": "stdout",
     "output_type": "stream",
     "text": [
      "[1, 2, 3, 4, 5, 6]\n"
     ]
    }
   ],
   "source": [
    "#  * operator concantenates the list.\n",
    "a = [1,2,3]\n",
    "b = [4,5,6]\n",
    "c = a + b\n",
    "\n",
    "print(c)\n"
   ]
  },
  {
   "cell_type": "code",
   "execution_count": 81,
   "metadata": {},
   "outputs": [
    {
     "data": {
      "text/plain": [
       "[1, 2, 3, 1, 2, 3, 1, 2, 3]"
      ]
     },
     "execution_count": 81,
     "metadata": {},
     "output_type": "execute_result"
    }
   ],
   "source": [
    "#  * operator also repeats the list\n",
    "[1,2,3]*3\n"
   ]
  },
  {
   "cell_type": "code",
   "execution_count": 82,
   "metadata": {},
   "outputs": [
    {
     "data": {
      "text/plain": [
       "['b', 'c']"
      ]
     },
     "execution_count": 82,
     "metadata": {},
     "output_type": "execute_result"
    }
   ],
   "source": [
    "# List Slices.\n",
    "t = ['a','b','c','d','e','f']\n",
    "t[1:3]\n"
   ]
  },
  {
   "cell_type": "code",
   "execution_count": 83,
   "metadata": {},
   "outputs": [
    {
     "data": {
      "text/plain": [
       "['a', 'b', 'c']"
      ]
     },
     "execution_count": 83,
     "metadata": {},
     "output_type": "execute_result"
    }
   ],
   "source": [
    "# List Slices. Omit the first index; slice starts at beg. Omit the second index; slice goes to the end.\n",
    "t = ['a','b','c','d','e','f']\n",
    "t[:3]"
   ]
  },
  {
   "cell_type": "code",
   "execution_count": 84,
   "metadata": {},
   "outputs": [
    {
     "name": "stdout",
     "output_type": "stream",
     "text": [
      "['a', 'x', 'y', 'd', 'e', 'f']\n"
     ]
    }
   ],
   "source": [
    "# List Slices. Slice operator on left of assignment can update multiple elements.\n",
    "t = ['a','b','c','d','e','f']\n",
    "t[1:3]=['x','y']\n",
    "print (t)"
   ]
  },
  {
   "cell_type": "code",
   "execution_count": 85,
   "metadata": {},
   "outputs": [
    {
     "name": "stdout",
     "output_type": "stream",
     "text": [
      "['a', 'b', 'c', 'd']\n"
     ]
    }
   ],
   "source": [
    "# List Methods by Python.'append'adds a new element.\n",
    "t = ['a','b','c']\n",
    "t.append('d')\n",
    "print (t)\n"
   ]
  },
  {
   "cell_type": "code",
   "execution_count": 86,
   "metadata": {},
   "outputs": [
    {
     "name": "stdout",
     "output_type": "stream",
     "text": [
      "['a', 'b', 'c', 'd', 'e']\n"
     ]
    }
   ],
   "source": [
    "# List Methods by Python.' extend' takes a list of arg and append all the elements\n",
    "t1 = ['a','b','c']\n",
    "t2 = ['d','e']\n",
    "t1.extend(t2)\n",
    "print (t1)\n"
   ]
  },
  {
   "cell_type": "code",
   "execution_count": 87,
   "metadata": {},
   "outputs": [
    {
     "name": "stdout",
     "output_type": "stream",
     "text": [
      "['g', 'i', 'm', 'n']\n"
     ]
    }
   ],
   "source": [
    "# List Methods. Care in not writing 't-t.sort'\n",
    "t = ['m', 'i', 'n', 'g']\n",
    "t.sort()\n",
    "print (t)"
   ]
  },
  {
   "cell_type": "code",
   "execution_count": 88,
   "metadata": {},
   "outputs": [
    {
     "data": {
      "text/plain": [
       "6"
      ]
     },
     "execution_count": 88,
     "metadata": {},
     "output_type": "execute_result"
    }
   ],
   "source": [
    "# Map_Filter_Reduce.Add all elements in a list using Python\n",
    "t = [1,2,3]\n",
    "sum(t)\n"
   ]
  },
  {
   "cell_type": "code",
   "execution_count": 89,
   "metadata": {},
   "outputs": [
    {
     "name": "stdout",
     "output_type": "stream",
     "text": [
      "['m', 'i', 'n']\n",
      "g\n"
     ]
    }
   ],
   "source": [
    "# Deleting elements . Use 'pop' if you know the the index of the element you want.\n",
    "t = ['m', 'i', 'n', 'g']\n",
    "x = t.pop(3)\n",
    "print (t)\n",
    "print(x)"
   ]
  },
  {
   "cell_type": "code",
   "execution_count": 90,
   "metadata": {},
   "outputs": [
    {
     "name": "stdout",
     "output_type": "stream",
     "text": [
      "['m', 'i', 'n']\n"
     ]
    }
   ],
   "source": [
    "# Deleting elements. Use ' remove' if you know the element but not the index.\n",
    "t = ['m', 'i', 'n', 'g']\n",
    "t.remove('g')\n",
    "print (t)"
   ]
  },
  {
   "cell_type": "code",
   "execution_count": 91,
   "metadata": {},
   "outputs": [
    {
     "name": "stdout",
     "output_type": "stream",
     "text": [
      "['m', 's']\n"
     ]
    }
   ],
   "source": [
    "# Deleting elements. Use 'delete'with a slice index to remove more than one element.\n",
    "t = ['m', 'i', 'n', 'e','s']\n",
    "del t[1:4]\n",
    "print(t)"
   ]
  },
  {
   "cell_type": "code",
   "execution_count": 92,
   "metadata": {},
   "outputs": [
    {
     "name": "stdout",
     "output_type": "stream",
     "text": [
      "['s', 'p', 'a', 'm']\n"
     ]
    }
   ],
   "source": [
    "# Lists n Strings. A string is a list of characters. A list is a sequence of values.Convert from a string to a list\n",
    "# of character; use 'list'. 'list' is a built-in function, avoid using it as a var, so use 't'.\n",
    "s = 'spam'\n",
    "t = list(s)\n",
    "print (t)\n"
   ]
  },
  {
   "cell_type": "code",
   "execution_count": 3,
   "metadata": {},
   "outputs": [
    {
     "name": "stdout",
     "output_type": "stream",
     "text": [
      "['Painting', 'the', 'mini']\n"
     ]
    }
   ],
   "source": [
    "# List n Strings. Use split to break a string into words.\n",
    "s = 'Painting the mini'\n",
    "t = s.split()\n",
    "print (t)\n"
   ]
  },
  {
   "cell_type": "code",
   "execution_count": 94,
   "metadata": {},
   "outputs": [
    {
     "data": {
      "text/plain": [
       "['ming', 'ming', 'ming']"
      ]
     },
     "execution_count": 94,
     "metadata": {},
     "output_type": "execute_result"
    }
   ],
   "source": [
    "# List n Strings. 'delimiter' specifies which character to use as word boundaries. Uses a hypen as a delimiter.\n",
    "s = 'ming-ming-ming'\n",
    "delimiter = '-'\n",
    "s.split(delimiter)\n"
   ]
  },
  {
   "cell_type": "code",
   "execution_count": 4,
   "metadata": {},
   "outputs": [
    {
     "data": {
      "text/plain": [
       "'Painting the mini'"
      ]
     },
     "execution_count": 4,
     "metadata": {},
     "output_type": "execute_result"
    }
   ],
   "source": [
    "# List n Strings.'join'is the inverse of split.Takes a string of characters and concatenates the elements. 'join' is\n",
    "# a string method, so invoke it on the the delimiter and pass the list as a parameter. \n",
    "t = ['Painting', 'the', 'mini']\n",
    "delimiter = ' '\n",
    "delimiter.join(t)\n"
   ]
  },
  {
   "cell_type": "code",
   "execution_count": 96,
   "metadata": {},
   "outputs": [
    {
     "data": {
      "text/plain": [
       "True"
      ]
     },
     "execution_count": 96,
     "metadata": {},
     "output_type": "execute_result"
    }
   ],
   "source": [
    "# Objects n Values. Check whether 2 var refer to the same object, Use 'is'\n",
    "a = 'ming'\n",
    "b = 'ming'\n",
    "a is b"
   ]
  },
  {
   "cell_type": "code",
   "execution_count": 97,
   "metadata": {},
   "outputs": [
    {
     "data": {
      "text/plain": [
       "False"
      ]
     },
     "execution_count": 97,
     "metadata": {},
     "output_type": "execute_result"
    }
   ],
   "source": [
    "# Objects n Values.When you create 2 lists, you get 2 objects.The 2 lists are equivalent but not identical.If 2 objects\n",
    "# are identical, they are also equivalent.\n",
    "a = [1,2,3]\n",
    "b = [1,2,3]\n",
    "a is b"
   ]
  },
  {
   "cell_type": "code",
   "execution_count": 98,
   "metadata": {},
   "outputs": [
    {
     "data": {
      "text/plain": [
       "True"
      ]
     },
     "execution_count": 98,
     "metadata": {},
     "output_type": "execute_result"
    }
   ],
   "source": [
    "# Aliasing\n",
    "a = [1,2,3]\n",
    "b = a\n",
    "b is a"
   ]
  },
  {
   "cell_type": "code",
   "execution_count": 5,
   "metadata": {},
   "outputs": [
    {
     "name": "stdout",
     "output_type": "stream",
     "text": [
      "['m', 'i', 'n', 'g']\n"
     ]
    }
   ],
   "source": [
    "# List Arg. 'delete-head' removes the first element from the list.\n",
    "def delete_head(t):\n",
    "    del t[0]\n",
    "\n",
    "letters = ['m','m','i','n','g']\n",
    "delete_head(letters)\n",
    "print(letters)\n",
    "    "
   ]
  },
  {
   "cell_type": "code",
   "execution_count": 6,
   "metadata": {},
   "outputs": [
    {
     "name": "stdout",
     "output_type": "stream",
     "text": [
      "['m', 'i', 'n', 'g']\n"
     ]
    }
   ],
   "source": [
    "# List Arg. Important to distinguish btw 'append' that modifies a list and '+' that creates a new list. Write a \n",
    "# function that creates n returns a new list. Eg 'tail' function returns all except the first element of the list.\n",
    "def tail(t):\n",
    "    return t[1:]\n",
    "\n",
    "letters = ['m','m','i','n','g']\n",
    "rest = tail(letters)\n",
    "print(rest)"
   ]
  },
  {
   "cell_type": "code",
   "execution_count": 101,
   "metadata": {},
   "outputs": [
    {
     "name": "stdout",
     "output_type": "stream",
     "text": [
      "After 1000 simulations\n",
      "with 23 students\n",
      "there were 493 simulations with at least one match\n"
     ]
    }
   ],
   "source": [
    "# Lists. Ex 10.8. ' Birthday Paradox'. A function 'has_duplicates' that take a list and returns 'True' if there is any\n",
    "#  element that appears more than once.\n",
    "#  23 students and chances that 2 have same birthday. Estimate probability with 23 random samples and check for matches\n",
    "#  Generate random birthdays with 'randint' function in the random module.\n",
    "\n",
    "import random\n",
    "\n",
    "def has_duplicates(t):\n",
    "    \"\"\"Returns True if any element appears more than once in (t),\n",
    "    False otherwise.\"\"\"\n",
    "    s = t[:]\n",
    "    s.sort()\n",
    "    for i in range(len(s)-1):\n",
    "        if s[i] == s[i+1]:\n",
    "            return True\n",
    "    return False\n",
    "\n",
    "\n",
    "def random_bdays(n):\n",
    "    \"\"\"Returns a list of integers between 1 and 365, with length (n).\"\"\"\n",
    "    t = []\n",
    "    for i in range(n):\n",
    "        bday = random.randint(1, 365)\n",
    "        t.append(bday)\n",
    "    return t\n",
    "\n",
    "\n",
    "def count_matches(students, samples):\n",
    "    \"\"\"Generates (samples) samples of (students) students, and counts\n",
    "    how many of them have at least one pair of students with the same bday.\"\"\"\n",
    "    count = 0\n",
    "    for i in range(samples):\n",
    "        t = random_bdays(students)\n",
    "        if has_duplicates(t):\n",
    "            count += 1\n",
    "    return count\n",
    "\n",
    "\"\"\"run the birthday simulation 1000 times and print the number of matches\"\"\"\n",
    "num_students = 23\n",
    "num_simulations = 1000\n",
    "count = count_matches(num_students, num_simulations)\n",
    "\n",
    "print ('After %d simulations' % num_simulations)\n",
    "print ('with %d students' % num_students)\n",
    "print ('there were %d simulations with at least one match' % count)"
   ]
  },
  {
   "cell_type": "code",
   "execution_count": null,
   "metadata": {},
   "outputs": [],
   "source": []
  },
  {
   "cell_type": "code",
   "execution_count": 4,
   "metadata": {},
   "outputs": [
    {
     "name": "stdout",
     "output_type": "stream",
     "text": [
      "{'one': 'uno', 'two': 'dos', 'three': 'tres'}\n"
     ]
    },
    {
     "data": {
      "text/plain": [
       "3"
      ]
     },
     "execution_count": 4,
     "metadata": {},
     "output_type": "execute_result"
    }
   ],
   "source": [
    "#Dict. use squiggly brackets.output order is different for imputs. Dict uses keys 'eg two' to look up the value.\n",
    "eng2sp = dict()\n",
    "eng2sp = {'one':'uno', 'two':'dos','three':'tres'}\n",
    "print (eng2sp)\n",
    "\n",
    "# len function returns # of key-value pairs.\n",
    "len(eng2sp)\n"
   ]
  },
  {
   "cell_type": "code",
   "execution_count": 5,
   "metadata": {},
   "outputs": [
    {
     "data": {
      "text/plain": [
       "False"
      ]
     },
     "execution_count": 5,
     "metadata": {},
     "output_type": "execute_result"
    }
   ],
   "source": [
    "# Dict. in operator tells whether something appears as a key\n",
    "'uno'in eng2sp\n",
    "    "
   ]
  },
  {
   "cell_type": "code",
   "execution_count": 6,
   "metadata": {},
   "outputs": [
    {
     "data": {
      "text/plain": [
       "True"
      ]
     },
     "execution_count": 6,
     "metadata": {},
     "output_type": "execute_result"
    }
   ],
   "source": [
    "#Dict' Use values to return a list and use in. 'in' operator uses different algos for list and dict.\n",
    "vals = eng2sp.values()\n",
    "'uno' in vals\n"
   ]
  },
  {
   "cell_type": "code",
   "execution_count": 7,
   "metadata": {},
   "outputs": [
    {
     "name": "stdout",
     "output_type": "stream",
     "text": [
      "{'b': 1, 'r': 2, 'o': 2, 'n': 1, 't': 1, 's': 2, 'a': 1, 'u': 2}\n"
     ]
    }
   ],
   "source": [
    "# Dict as a set of counters\n",
    "#Advtg of a dict implementation is that we don't hv to know in ahead which letters appear in a string. first line\n",
    "# function creates an empty dict. for loop traverse the string. Each time thru the loop if c is not in the dict, we \n",
    "# create a new item with key c and the initial value.If c is in the dict we increment d[c].\n",
    "def histogram(s):\n",
    "    d = dict()\n",
    "    for c in s:\n",
    "        if c not in d:\n",
    "            d[c]=1\n",
    "        else:\n",
    "            d[c]+=1\n",
    "    return(d)\n",
    "\n",
    "h = histogram('brontosaurus')\n",
    "print(h)"
   ]
  },
  {
   "cell_type": "code",
   "execution_count": 10,
   "metadata": {},
   "outputs": [
    {
     "name": "stdout",
     "output_type": "stream",
     "text": [
      "p 1\n",
      "a 1\n",
      "r 2\n",
      "o 1\n",
      "t 1\n"
     ]
    }
   ],
   "source": [
    "# Looping & Dict. Use dict in a for statement, it traverse the keys of the dict. Prints each key n the corresponding\n",
    "# value.\n",
    "def print_hist(h):\n",
    "    for c in h:\n",
    "        print (c, h[c])\n",
    "        \n",
    "h = histogram('parrot')\n",
    "print_hist(h)"
   ]
  },
  {
   "cell_type": "code",
   "execution_count": 11,
   "metadata": {},
   "outputs": [
    {
     "name": "stdout",
     "output_type": "stream",
     "text": [
      "{'p': 1, 'a': 1, 'r': 2, 'o': 1, 't': 1}\n",
      "{1: ['p', 'a', 'o', 't'], 2: ['r']}\n"
     ]
    }
   ],
   "source": [
    "# Dict & List. Lists can appear as values in a dict. Given a dict that maps from letters to frequencies; invert it to\n",
    "#  create a dict that maps from \n",
    "\n",
    "\n",
    "frequencies to letters. There maybe several letters with same frequency, each value\n",
    "#  in the inverted dict is a list of letters. \n",
    "# Each time tru the loop, key gets a key from d and val gets the corresponding value. If val is not in inverse, create\n",
    "#  a new item n initialize it with a singleton (a list that contains a single element).Otherwise, append the\n",
    "#  corresponding key to the list.\n",
    "# List can be values in a dict but not keys.\n",
    "# Hash is a function that takes a value and returns an integer.Dict use these integers (hash values) to store n look\n",
    "#  up key-value pairs. So keys have to be immutable. If Keys that are mutable like lists ...fatal errors.\n",
    "\n",
    "def invert_dict(d):\n",
    "    inverse = dict()\n",
    "    for key in d:\n",
    "        val = d[key]\n",
    "        if val not in inverse:\n",
    "            inverse[val] = [key]\n",
    "        else:\n",
    "            inverse[val].append(key)\n",
    "    return inverse\n",
    "\n",
    "hist = histogram('parrot')\n",
    "print (hist)\n",
    "inverse = invert_dict(hist)\n",
    "print(inverse) "
   ]
  },
  {
   "cell_type": "code",
   "execution_count": 12,
   "metadata": {},
   "outputs": [
    {
     "name": "stdout",
     "output_type": "stream",
     "text": [
      "r\n"
     ]
    }
   ],
   "source": [
    "# Reverse Lookup. given a dict and a key k. find the value v = d[k]. A function that takes a value and returns the \n",
    "# first key that maps to that value. 'raise error' causes an exception i.e. ValueError.\n",
    "\n",
    "def reverse_lookup(d, v):\n",
    "    for k in d:\n",
    "        if v == d[k]:\n",
    "            return k\n",
    "    raise ValueError\n",
    "\n",
    "# a successful reverse lookup. \n",
    "\n",
    "h = histogram('parrot')\n",
    "k = reverse_lookup(h,2)\n",
    "print (k)"
   ]
  },
  {
   "cell_type": "code",
   "execution_count": 13,
   "metadata": {},
   "outputs": [
    {
     "name": "stdout",
     "output_type": "stream",
     "text": [
      "1\n"
     ]
    }
   ],
   "source": [
    "# Dict/Memos. 'known' is a dict that keeps the Fibonacci numbers already known. If the results are there, it return\n",
    "#  immediately.Otherwise, it has to compute the new value, add to dict, and return it. \n",
    "\n",
    "known = {0:0, 1:1}\n",
    "\n",
    "def fibonacci(n):\n",
    "    if n in known:\n",
    "        return known[n]\n",
    "    \n",
    "    res = fibonacci(n-1) + fibonacci(n -2)\n",
    "    known[n] = res\n",
    "    return res\n",
    "\n",
    "n = 2\n",
    "print (fibonacci(n))\n",
    "\n"
   ]
  },
  {
   "cell_type": "code",
   "execution_count": null,
   "metadata": {},
   "outputs": [],
   "source": [
    "#Dict/Global Var. 'verbose = True' created outside the function and is a global var, because it can be accessed from\n",
    "#  any function. This function uses a flag to control the level of details in the output.\n",
    "\n",
    "verbose = True\n",
    "\n",
    "def example1():\n",
    "    if verbose:\n",
    "        print ('running example1')\n",
    "        \n",
    "('verbose')\n",
    "print (example1())      \n"
   ]
  },
  {
   "cell_type": "code",
   "execution_count": 14,
   "metadata": {
    "scrolled": true
   },
   "outputs": [
    {
     "name": "stdout",
     "output_type": "stream",
     "text": [
      "running example2\n",
      "None\n"
     ]
    }
   ],
   "source": [
    "# Dict/Global. To reassign a global var insode a function, declare the global var b4 use.\n",
    "\n",
    "called = False\n",
    "\n",
    "def example2():\n",
    "    global called\n",
    "    called = True\n",
    "    if called:\n",
    "        print('running example2')\n",
    "    \n",
    "('called')\n",
    "print (example2())"
   ]
  },
  {
   "cell_type": "code",
   "execution_count": 15,
   "metadata": {},
   "outputs": [
    {
     "name": "stdout",
     "output_type": "stream",
     "text": [
      "False\n",
      "True\n",
      "False\n",
      "True\n"
     ]
    }
   ],
   "source": [
    "# Dict. Ex 11.9.Use a dict that returns True for any object that appears more than once.\n",
    "def has_duplicates(t):\n",
    "    \"\"\"Checks whether any element appears more than once in a sequence.\n",
    "    Simple version using a for loop.\n",
    "    t: sequence\n",
    "    \"\"\"\n",
    "    d = {}\n",
    "    for x in t:\n",
    "        if x in d:\n",
    "            return True\n",
    "        d[x] = True\n",
    "    return False\n",
    "\n",
    "\n",
    "def has_duplicates2(t):\n",
    "    \"\"\"Checks whether any element appears more than once in a sequence.\n",
    "    Faster version using a set.\n",
    "    t: sequence\n",
    "    \"\"\"\n",
    "    return len(set(t)) < len(t)\n",
    "\n",
    "\n",
    "if __name__ == '__main__':\n",
    "    t = [1, 2, 3]\n",
    "    print (has_duplicates(t))\n",
    "    t.append(1)\n",
    "    print (has_duplicates(t))\n",
    "\n",
    "    t = [1, 2, 3]\n",
    "    print (has_duplicates2(t))\n",
    "    t.append(1)\n",
    "    print (has_duplicates2(t))"
   ]
  },
  {
   "cell_type": "code",
   "execution_count": 16,
   "metadata": {},
   "outputs": [
    {
     "name": "stdout",
     "output_type": "stream",
     "text": [
      "jolly\n",
      "cubed\n",
      "eafy\n"
     ]
    }
   ],
   "source": [
    "# Repeat for below code.\n",
    "import string\n",
    "\n",
    "def rotate_letter(letter, n):\n",
    "    \"\"\"Rotates a letter by n places.  Does not change other chars.\n",
    "    letter: single-letter string\n",
    "    n: int\n",
    "    Returns: single-letter string\n",
    "    \"\"\"\n",
    "    if letter.isupper():\n",
    "        start = ord('A')\n",
    "    elif letter.islower():\n",
    "        start = ord('a')\n",
    "    else:\n",
    "        return letter\n",
    "\n",
    "    c = ord(letter) - start\n",
    "    i = (c + n) % 26 + start\n",
    "    return chr(i)\n",
    "\n",
    "def rotate_word(word, n):\n",
    "    \"\"\"Rotates a word by n places.\n",
    "    word: string\n",
    "    n: integer\n",
    "    Returns: string\n",
    "    \"\"\"\n",
    "    res = ''\n",
    "    for letter in word:\n",
    "        res += rotate_letter(letter, n)\n",
    "    return res\n",
    "\n",
    "if __name__ == '__main__':\n",
    "    print (rotate_word ('cheer', 7))\n",
    "    print (rotate_word('melon', -10))\n",
    "    print (rotate_word('ming', -8))\n",
    "      "
   ]
  },
  {
   "cell_type": "code",
   "execution_count": null,
   "metadata": {},
   "outputs": [],
   "source": []
  },
  {
   "cell_type": "code",
   "execution_count": null,
   "metadata": {},
   "outputs": [],
   "source": []
  }
 ],
 "metadata": {
  "kernelspec": {
   "display_name": "Python 3",
   "language": "python",
   "name": "python3"
  },
  "language_info": {
   "codemirror_mode": {
    "name": "ipython",
    "version": 3
   },
   "file_extension": ".py",
   "mimetype": "text/x-python",
   "name": "python",
   "nbconvert_exporter": "python",
   "pygments_lexer": "ipython3",
   "version": "3.6.8"
  }
 },
 "nbformat": 4,
 "nbformat_minor": 2
}
